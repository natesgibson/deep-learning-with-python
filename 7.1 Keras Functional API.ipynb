{
 "cells": [
  {
   "cell_type": "markdown",
   "metadata": {},
   "source": [
    "## Multi-input Model"
   ]
  },
  {
   "cell_type": "code",
   "execution_count": 1,
   "metadata": {},
   "outputs": [
    {
     "name": "stderr",
     "output_type": "stream",
     "text": [
      "2023-10-04 14:15:02.851773: I tensorflow/core/common_runtime/pluggable_device/pluggable_device_factory.cc:305] Could not identify NUMA node of platform GPU ID 0, defaulting to 0. Your kernel may not have been built with NUMA support.\n",
      "2023-10-04 14:15:02.851917: I tensorflow/core/common_runtime/pluggable_device/pluggable_device_factory.cc:271] Created TensorFlow device (/job:localhost/replica:0/task:0/device:GPU:0 with 0 MB memory) -> physical PluggableDevice (device: 0, name: METAL, pci bus id: <undefined>)\n"
     ]
    },
    {
     "name": "stdout",
     "output_type": "stream",
     "text": [
      "Metal device set to: Apple M1\n",
      "\n",
      "systemMemory: 8.00 GB\n",
      "maxCacheSize: 2.67 GB\n",
      "\n"
     ]
    }
   ],
   "source": [
    "# build multi-input model (to predict 1-word answer from relevant background text and a user question)\n",
    "from tensorflow.keras.models import Model\n",
    "from tensorflow.keras import layers\n",
    "from tensorflow.keras import Input\n",
    "\n",
    "text_vocab_size = 10_000\n",
    "question_vocab_size = 10_000\n",
    "answer_vocab_size = 500\n",
    "\n",
    "# input 1\n",
    "text_input = Input(shape=(None,), dtype='int32', name='text')\n",
    "embedded_text = layers.Embedding(text_vocab_size, 64)(text_input) # the embedding arguments are backwards in the text\n",
    "encoded_text = layers.LSTM(32)(embedded_text)\n",
    "\n",
    "# input 2\n",
    "question_input = Input(shape=(None,), dtype='int32', name='question')\n",
    "embedded_question = layers.Embedding(question_vocab_size, 32)(question_input)\n",
    "encoded_question = layers.LSTM(16)(embedded_question)\n",
    "\n",
    "# inputs are merged via concatination into dense layer\n",
    "concatinated = layers.concatenate([encoded_text, encoded_question], axis=-1)\n",
    "answer = layers.Dense(answer_vocab_size, activation='softmax')(concatinated)\n",
    "model = Model([text_input, question_input], answer)\n",
    "model.compile(optimizer='rmsprop', loss='categorical_crossentropy', metrics=['acc'])"
   ]
  },
  {
   "cell_type": "code",
   "execution_count": 4,
   "metadata": {},
   "outputs": [
    {
     "name": "stdout",
     "output_type": "stream",
     "text": [
      "Epoch 1/10\n"
     ]
    },
    {
     "name": "stderr",
     "output_type": "stream",
     "text": [
      "2023-10-04 14:17:58.501290: I tensorflow/core/grappler/optimizers/custom_graph_optimizer_registry.cc:112] Plugin optimizer for device_type GPU is enabled.\n",
      "2023-10-04 14:17:59.034871: I tensorflow/core/grappler/optimizers/custom_graph_optimizer_registry.cc:112] Plugin optimizer for device_type GPU is enabled.\n",
      "2023-10-04 14:17:59.034999: I tensorflow/core/grappler/optimizers/custom_graph_optimizer_registry.cc:112] Plugin optimizer for device_type GPU is enabled.\n",
      "2023-10-04 14:18:02.811044: I tensorflow/core/grappler/optimizers/custom_graph_optimizer_registry.cc:112] Plugin optimizer for device_type GPU is enabled.\n",
      "2023-10-04 14:18:02.831370: I tensorflow/core/grappler/optimizers/custom_graph_optimizer_registry.cc:112] Plugin optimizer for device_type GPU is enabled.\n"
     ]
    },
    {
     "name": "stdout",
     "output_type": "stream",
     "text": [
      "8/8 [==============================] - 33s 2s/step - loss: 6.2677 - acc: 0.0000e+00\n",
      "Epoch 2/10\n",
      "8/8 [==============================] - 6s 784ms/step - loss: 6.1794 - acc: 0.0020\n",
      "Epoch 3/10\n",
      "8/8 [==============================] - 6s 749ms/step - loss: 6.1214 - acc: 0.0030\n",
      "Epoch 4/10\n",
      "8/8 [==============================] - 6s 787ms/step - loss: 6.0307 - acc: 0.0010\n",
      "Epoch 5/10\n",
      "8/8 [==============================] - 6s 810ms/step - loss: 5.9273 - acc: 0.0070\n",
      "Epoch 6/10\n",
      "8/8 [==============================] - 6s 782ms/step - loss: 5.8407 - acc: 0.0160\n",
      "Epoch 7/10\n",
      "8/8 [==============================] - 5s 633ms/step - loss: 5.7476 - acc: 0.0320\n",
      "Epoch 8/10\n",
      "8/8 [==============================] - 4s 549ms/step - loss: 5.6675 - acc: 0.0220\n",
      "Epoch 9/10\n",
      "8/8 [==============================] - 4s 567ms/step - loss: 5.5963 - acc: 0.0370\n",
      "Epoch 10/10\n",
      "8/8 [==============================] - 5s 586ms/step - loss: 5.5558 - acc: 0.0550\n"
     ]
    },
    {
     "data": {
      "text/plain": [
       "<keras.callbacks.History at 0x2e93d5d60>"
      ]
     },
     "execution_count": 4,
     "metadata": {},
     "output_type": "execute_result"
    }
   ],
   "source": [
    "# train model on random data\n",
    "import numpy as np\n",
    "\n",
    "num_samples = 1000\n",
    "max_length = 100\n",
    "\n",
    "text = np.random.randint(1, text_vocab_size, size=(num_samples, max_length))\n",
    "question = np.random.randint(1, question_vocab_size, size=(num_samples, max_length))\n",
    "\n",
    "answers = np.zeros((num_samples, answer_vocab_size))\n",
    "for answer in answers:\n",
    "  answer[np.random.randint(answer_vocab_size)] = 1\n",
    "\n",
    "# mapping data to multiple inputs:\n",
    "# 1. can use a list of np arrays in the appropriate order\n",
    "# OR\n",
    "# 2. can use a dictionary mapping an array to each input\n",
    "\n",
    "# 1\n",
    "#model.fit([text, question], answers, epochs=10, batch_size=128)\n",
    "\n",
    "# 2\n",
    "model.fit({'text': text, 'question': question}, answers, epochs=10, batch_size=128)"
   ]
  },
  {
   "cell_type": "markdown",
   "metadata": {},
   "source": [
    "## Multi-output Model"
   ]
  },
  {
   "cell_type": "code",
   "execution_count": 62,
   "metadata": {},
   "outputs": [],
   "source": [
    "# build multi-input model (to predict user attributes from social media posts)\n",
    "from tensorflow.keras import layers\n",
    "from tensorflow.keras import Input\n",
    "from tensorflow.keras.models import Model\n",
    "\n",
    "vocab_size = 50_000\n",
    "num_income_groups = 10\n",
    "\n",
    "posts_input = Input(shape=(None,), dtype='int32', name='posts')\n",
    "embedded_posts = layers.Embedding(vocab_size, 256)(posts_input)\n",
    "\n",
    "x = layers.Conv1D(128, 5, activation='relu')(embedded_posts)\n",
    "x = layers.MaxPooling1D(5)(x)\n",
    "x = layers.Conv1D(256, 5, activation='relu')(x)\n",
    "x = layers.Conv1D(256, 5, activation='relu')(x)\n",
    "x = layers.MaxPooling1D(5)(x)\n",
    "x = layers.Conv1D(256, 5, activation='relu')(x)\n",
    "x = layers.Conv1D(256, 5, activation='relu')(x)\n",
    "x = layers.GlobalMaxPooling1D()(x)\n",
    "x = layers.Dense(128, activation='relu')(x)\n",
    "\n",
    "# multiple outputs\n",
    "age_prediction = layers.Dense(1, name='age')(x)\n",
    "income_prediction = layers.Dense(num_income_groups, activation='softmax', name='income')(x)\n",
    "gender_prediction = layers.Dense(1, activation='sigmoid', name='gender')(x)\n",
    "\n",
    "model = Model(posts_input, [age_prediction, income_prediction, gender_prediction])\n",
    "\n",
    "# combine multi-output loss functions into one loss function\n",
    "# default is to sum each loss, or a linear combination with weights\n",
    "# weights help when different losses use different scales\n",
    "# (could use lists or dictionary)\n",
    "model.compile(optimizer='rmsprop',\n",
    "              loss={'age': 'mse', 'income': 'categorical_crossentropy', 'gender': 'binary_crossentropy'},\n",
    "              loss_weights={'age': 0.25, 'income': 1., 'gender': 10.})"
   ]
  },
  {
   "cell_type": "code",
   "execution_count": 63,
   "metadata": {},
   "outputs": [
    {
     "name": "stdout",
     "output_type": "stream",
     "text": [
      "Epoch 1/10\n"
     ]
    },
    {
     "name": "stderr",
     "output_type": "stream",
     "text": [
      "2023-10-05 11:15:56.636950: I tensorflow/core/grappler/optimizers/custom_graph_optimizer_registry.cc:112] Plugin optimizer for device_type GPU is enabled.\n",
      "loc(\"mps_select\"(\"(mpsFileLoc): /AppleInternal/Library/BuildRoots/75428952-3aa4-11ee-8b65-46d450270006/Library/Caches/com.apple.xbs/Sources/MetalPerformanceShadersGraph/mpsgraph/MetalPerformanceShadersGraph/Core/Files/MPSGraphUtilities.mm\":294:0)): error: 'anec.gain_offset_control' op result #0 must be 4D/5D memref of 16-bit float or 8-bit signed integer or 8-bit unsigned integer values, but got 'memref<1x64x1x1xi1>'\n",
      "loc(\"mps_select\"(\"(mpsFileLoc): /AppleInternal/Library/BuildRoots/75428952-3aa4-11ee-8b65-46d450270006/Library/Caches/com.apple.xbs/Sources/MetalPerformanceShadersGraph/mpsgraph/MetalPerformanceShadersGraph/Core/Files/MPSGraphUtilities.mm\":294:0)): error: 'anec.gain_offset_control' op result #0 must be 4D/5D memref of 16-bit float or 8-bit signed integer or 8-bit unsigned integer values, but got 'memref<1x64x1x1xi1>'\n",
      "loc(\"mps_select\"(\"(mpsFileLoc): /AppleInternal/Library/BuildRoots/75428952-3aa4-11ee-8b65-46d450270006/Library/Caches/com.apple.xbs/Sources/MetalPerformanceShadersGraph/mpsgraph/MetalPerformanceShadersGraph/Core/Files/MPSGraphUtilities.mm\":294:0)): error: 'anec.gain_offset_control' op result #0 must be 4D/5D memref of 16-bit float or 8-bit signed integer or 8-bit unsigned integer values, but got 'memref<1x64x1x1xi1>'\n",
      "loc(\"mps_select\"(\"(mpsFileLoc): /AppleInternal/Library/BuildRoots/75428952-3aa4-11ee-8b65-46d450270006/Library/Caches/com.apple.xbs/Sources/MetalPerformanceShadersGraph/mpsgraph/MetalPerformanceShadersGraph/Core/Files/MPSGraphUtilities.mm\":294:0)): error: 'anec.gain_offset_control' op result #0 must be 4D/5D memref of 16-bit float or 8-bit signed integer or 8-bit unsigned integer values, but got 'memref<1x64x1x1xi1>'\n",
      "loc(\"mps_select\"(\"(mpsFileLoc): /AppleInternal/Library/BuildRoots/75428952-3aa4-11ee-8b65-46d450270006/Library/Caches/com.apple.xbs/Sources/MetalPerformanceShadersGraph/mpsgraph/MetalPerformanceShadersGraph/Core/Files/MPSGraphUtilities.mm\":294:0)): error: 'anec.gain_offset_control' op result #0 must be 4D/5D memref of 16-bit float or 8-bit signed integer or 8-bit unsigned integer values, but got 'memref<1x64x1x1xi1>'\n"
     ]
    },
    {
     "name": "stdout",
     "output_type": "stream",
     "text": [
      "1/2 [==============>...............] - ETA: 14s - loss: 1028.4611 - age_loss: 4076.9375 - income_loss: 2.3018 - gender_loss: 0.6925"
     ]
    },
    {
     "name": "stderr",
     "output_type": "stream",
     "text": [
      "loc(\"mps_select\"(\"(mpsFileLoc): /AppleInternal/Library/BuildRoots/75428952-3aa4-11ee-8b65-46d450270006/Library/Caches/com.apple.xbs/Sources/MetalPerformanceShadersGraph/mpsgraph/MetalPerformanceShadersGraph/Core/Files/MPSGraphUtilities.mm\":294:0)): error: 'anec.gain_offset_control' op result #0 must be 4D/5D memref of 16-bit float or 8-bit signed integer or 8-bit unsigned integer values, but got 'memref<1x36x1x1xi1>'\n",
      "loc(\"mps_select\"(\"(mpsFileLoc): /AppleInternal/Library/BuildRoots/75428952-3aa4-11ee-8b65-46d450270006/Library/Caches/com.apple.xbs/Sources/MetalPerformanceShadersGraph/mpsgraph/MetalPerformanceShadersGraph/Core/Files/MPSGraphUtilities.mm\":294:0)): error: 'anec.gain_offset_control' op result #0 must be 4D/5D memref of 16-bit float or 8-bit signed integer or 8-bit unsigned integer values, but got 'memref<1x36x1x1xi1>'\n",
      "loc(\"mps_select\"(\"(mpsFileLoc): /AppleInternal/Library/BuildRoots/75428952-3aa4-11ee-8b65-46d450270006/Library/Caches/com.apple.xbs/Sources/MetalPerformanceShadersGraph/mpsgraph/MetalPerformanceShadersGraph/Core/Files/MPSGraphUtilities.mm\":294:0)): error: 'anec.gain_offset_control' op result #0 must be 4D/5D memref of 16-bit float or 8-bit signed integer or 8-bit unsigned integer values, but got 'memref<1x36x1x1xi1>'\n",
      "loc(\"mps_select\"(\"(mpsFileLoc): /AppleInternal/Library/BuildRoots/75428952-3aa4-11ee-8b65-46d450270006/Library/Caches/com.apple.xbs/Sources/MetalPerformanceShadersGraph/mpsgraph/MetalPerformanceShadersGraph/Core/Files/MPSGraphUtilities.mm\":294:0)): error: 'anec.gain_offset_control' op result #0 must be 4D/5D memref of 16-bit float or 8-bit signed integer or 8-bit unsigned integer values, but got 'memref<1x36x1x1xi1>'\n",
      "loc(\"mps_select\"(\"(mpsFileLoc): /AppleInternal/Library/BuildRoots/75428952-3aa4-11ee-8b65-46d450270006/Library/Caches/com.apple.xbs/Sources/MetalPerformanceShadersGraph/mpsgraph/MetalPerformanceShadersGraph/Core/Files/MPSGraphUtilities.mm\":294:0)): error: 'anec.gain_offset_control' op result #0 must be 4D/5D memref of 16-bit float or 8-bit signed integer or 8-bit unsigned integer values, but got 'memref<1x36x1x1xi1>'\n"
     ]
    },
    {
     "name": "stdout",
     "output_type": "stream",
     "text": [
      "2/2 [==============================] - 19s 5s/step - loss: 883.1523 - age_loss: 3484.9575 - income_loss: 2.3133 - gender_loss: 0.9600\n",
      "Epoch 2/10\n",
      "2/2 [==============================] - 2s 782ms/step - loss: 628.6981 - age_loss: 1718.0878 - income_loss: 9.2496 - gender_loss: 18.9927\n",
      "Epoch 3/10\n",
      "2/2 [==============================] - 1s 670ms/step - loss: 598.6541 - age_loss: 1949.1958 - income_loss: 5.0672 - gender_loss: 10.6288\n",
      "Epoch 4/10\n",
      "2/2 [==============================] - 2s 773ms/step - loss: 771.8395 - age_loss: 2075.3008 - income_loss: 8.7976 - gender_loss: 24.4217\n",
      "Epoch 5/10\n",
      "2/2 [==============================] - 2s 739ms/step - loss: 673.2586 - age_loss: 2521.4070 - income_loss: 2.6699 - gender_loss: 4.0237\n",
      "Epoch 6/10\n",
      "2/2 [==============================] - 2s 890ms/step - loss: 505.2428 - age_loss: 1699.4325 - income_loss: 3.2608 - gender_loss: 7.7124\n",
      "Epoch 7/10\n",
      "2/2 [==============================] - 1s 741ms/step - loss: 303.9539 - age_loss: 518.5051 - income_loss: 4.7571 - gender_loss: 16.9571\n",
      "Epoch 8/10\n",
      "2/2 [==============================] - 1s 769ms/step - loss: 258.9536 - age_loss: 364.2662 - income_loss: 3.7976 - gender_loss: 16.4089\n",
      "Epoch 9/10\n",
      "2/2 [==============================] - 1s 644ms/step - loss: 221.0520 - age_loss: 273.5099 - income_loss: 2.9022 - gender_loss: 14.9772\n",
      "Epoch 10/10\n",
      "2/2 [==============================] - 1s 650ms/step - loss: 185.8616 - age_loss: 169.4910 - income_loss: 2.5874 - gender_loss: 14.0901\n"
     ]
    },
    {
     "data": {
      "text/plain": [
       "<keras.callbacks.History at 0x41e4b1580>"
      ]
     },
     "execution_count": 63,
     "metadata": {},
     "output_type": "execute_result"
    }
   ],
   "source": [
    "# train model on random data\n",
    "import numpy as np\n",
    "\n",
    "# (these must be tuned for model to work.\n",
    "# e.g. if post size is too small, convolutions are too large)\n",
    "num_samples = 100\n",
    "post_size = 1000\n",
    "\n",
    "posts = np.random.randint(1, vocab_size, size=(num_samples, post_size))\n",
    "age_targets = np.random.randint(10, 100, size=num_samples)\n",
    "income_targets = np.random.randint(0, num_income_groups, size=num_samples)\n",
    "income_targets = np.eye(num_income_groups)[income_targets]\n",
    "gender_targets = np.random.randint(0, 2, size=num_samples)\n",
    "\n",
    "model.fit(posts,\n",
    "          {'age': age_targets,'income': income_targets, 'gender': gender_targets},\n",
    "          epochs=10, batch_size=64)"
   ]
  }
 ],
 "metadata": {
  "kernelspec": {
   "display_name": "tensorflowenv",
   "language": "python",
   "name": "python3"
  },
  "language_info": {
   "codemirror_mode": {
    "name": "ipython",
    "version": 3
   },
   "file_extension": ".py",
   "mimetype": "text/x-python",
   "name": "python",
   "nbconvert_exporter": "python",
   "pygments_lexer": "ipython3",
   "version": "3.9.16"
  },
  "orig_nbformat": 4,
  "vscode": {
   "interpreter": {
    "hash": "56812fdf969ac077eeaf2ef088cf4d7847f3481c325e30630107ab1a17355ea1"
   }
  }
 },
 "nbformat": 4,
 "nbformat_minor": 2
}
